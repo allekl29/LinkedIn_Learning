{
  "cells": [
    {
      "cell_type": "markdown",
      "id": "5dda78ce",
      "metadata": {
        "nbgrader": {
          "grade": false,
          "locked": true,
          "solution": false
        },
        "tags": [
          "notebook_header"
        ],
        "id": "5dda78ce"
      },
      "source": [
        "# Bootcamp Practice Notebooks:  Music Album Rankings Analysis\n",
        "\n",
        "## Notebook 4:  Data Cleaning and Initial Analysis"
      ]
    },
    {
      "cell_type": "markdown",
      "id": "4d58b4a0",
      "metadata": {
        "nbgrader": {
          "grade": false,
          "locked": true,
          "solution": false
        },
        "tags": [
          "topic_intro"
        ],
        "id": "4d58b4a0"
      },
      "source": [
        " # Overview: Music Album Rankings #\n",
        "\n",
        "`Rolling Stone` magazine is an American monthly magazine that focuses on music, politics, and popular culture. It was founded in San Francisco, California in 1967 and still publishes monthly to this day. The magazine is known for its coverage of music, entertainment, and politics.\n",
        "\n",
        "In 2003, the magazine released its `“500 Greatest Albums of All Time,”` placing the Beatles’ “Sgt. Pepper’s Lonely Hearts Club Band” in the top slot. It has since released two additional `\"500 Greatest\"` lists, in 2012 and 2020. While not necessary for this analysis, to gain a full understanding of these rankings, see this Wikipedia article:  https://en.wikipedia.org/wiki/Rolling_Stone%27s_500_Greatest_Albums_of_All_Time\n",
        "\n"
      ]
    },
    {
      "cell_type": "markdown",
      "id": "438ee3df",
      "metadata": {
        "nbgrader": {
          "grade": false,
          "locked": true,
          "solution": false
        },
        "id": "438ee3df"
      },
      "source": [
        "# Setup and Data Load\n",
        "\n",
        "To get started, run the following code cells. They will load the data files and populate the `voters` and `albums` datasets that you will be working with."
      ]
    },
    {
      "cell_type": "code",
      "execution_count": 128,
      "id": "343c2fad-cad9-4010-9b51-9011056783b8",
      "metadata": {
        "id": "343c2fad-cad9-4010-9b51-9011056783b8",
        "outputId": "e99b57ea-353f-4381-8887-856d2f87949c",
        "colab": {
          "base_uri": "https://localhost:8080/"
        }
      },
      "outputs": [
        {
          "output_type": "stream",
          "name": "stdout",
          "text": [
            "--2025-09-22 20:14:35--  https://github.com/gt-cse-6040/bootcamp/raw/main/practice_exercises/voters.json\n",
            "Resolving github.com (github.com)... 140.82.113.4\n",
            "Connecting to github.com (github.com)|140.82.113.4|:443... connected.\n",
            "HTTP request sent, awaiting response... 302 Found\n",
            "Location: https://raw.githubusercontent.com/gt-cse-6040/bootcamp/main/practice_exercises/voters.json [following]\n",
            "--2025-09-22 20:14:35--  https://raw.githubusercontent.com/gt-cse-6040/bootcamp/main/practice_exercises/voters.json\n",
            "Resolving raw.githubusercontent.com (raw.githubusercontent.com)... 185.199.108.133, 185.199.109.133, 185.199.110.133, ...\n",
            "Connecting to raw.githubusercontent.com (raw.githubusercontent.com)|185.199.108.133|:443... connected.\n",
            "HTTP request sent, awaiting response... 200 OK\n",
            "Length: 328847 (321K) [text/plain]\n",
            "Saving to: ‘voters.json.1’\n",
            "\n",
            "voters.json.1       100%[===================>] 321.14K  --.-KB/s    in 0.006s  \n",
            "\n",
            "2025-09-22 20:14:35 (49.5 MB/s) - ‘voters.json.1’ saved [328847/328847]\n",
            "\n",
            "--2025-09-22 20:14:35--  https://github.com/gt-cse-6040/bootcamp/raw/main/practice_exercises/Rolling_Stone_500_public.json\n",
            "Resolving github.com (github.com)... 140.82.114.3\n",
            "Connecting to github.com (github.com)|140.82.114.3|:443... connected.\n",
            "HTTP request sent, awaiting response... 302 Found\n",
            "Location: https://raw.githubusercontent.com/gt-cse-6040/bootcamp/main/practice_exercises/Rolling_Stone_500_public.json [following]\n",
            "--2025-09-22 20:14:35--  https://raw.githubusercontent.com/gt-cse-6040/bootcamp/main/practice_exercises/Rolling_Stone_500_public.json\n",
            "Resolving raw.githubusercontent.com (raw.githubusercontent.com)... 185.199.108.133, 185.199.109.133, 185.199.110.133, ...\n",
            "Connecting to raw.githubusercontent.com (raw.githubusercontent.com)|185.199.108.133|:443... connected.\n",
            "HTTP request sent, awaiting response... 200 OK\n",
            "Length: 714833 (698K) [text/plain]\n",
            "Saving to: ‘Rolling_Stone_500_public.json.1’\n",
            "\n",
            "Rolling_Stone_500_p 100%[===================>] 698.08K  --.-KB/s    in 0.007s  \n",
            "\n",
            "2025-09-22 20:14:36 (99.6 MB/s) - ‘Rolling_Stone_500_public.json.1’ saved [714833/714833]\n",
            "\n"
          ]
        }
      ],
      "source": [
        "!wget https://github.com/gt-cse-6040/bootcamp/raw/main/practice_exercises/voters.json\n",
        "!wget https://github.com/gt-cse-6040/bootcamp/raw/main/practice_exercises/Rolling_Stone_500_public.json"
      ]
    },
    {
      "cell_type": "code",
      "execution_count": 129,
      "id": "13a71351",
      "metadata": {
        "id": "13a71351"
      },
      "outputs": [],
      "source": [
        "import json\n",
        "\n",
        "with open(\"voters.json\", \"r\") as read_file:\n",
        "    voters = json.load(read_file)\n",
        "read_file.close()\n",
        "\n",
        "with open(\"Rolling_Stone_500_public.json\", \"r\") as read_file:\n",
        "    albums = json.load(read_file)\n",
        "read_file.close()"
      ]
    },
    {
      "cell_type": "code",
      "source": [
        "display(albums_list[10])"
      ],
      "metadata": {
        "id": "splW1me2SUOD",
        "outputId": "c91d8a21-3d17-495a-b5d5-3f72019cc312",
        "colab": {
          "base_uri": "https://localhost:8080/",
          "height": 451
        }
      },
      "id": "splW1me2SUOD",
      "execution_count": 130,
      "outputs": [
        {
          "output_type": "display_data",
          "data": {
            "text/plain": [
              "{'Sort_Name': 'Coltrane, John',\n",
              " 'Clean_Name': 'John Coltrane',\n",
              " 'Album': 'Giant Steps',\n",
              " '2003_Rank_Old': '103',\n",
              " '2003_Rank': '102',\n",
              " '2012_Rank': '103',\n",
              " '2020_Rank': '232',\n",
              " '2020_2003_Differential': '-130',\n",
              " 'Release_Year': '1959',\n",
              " 'Album_Genre': 'Big Band/Jazz',\n",
              " 'Album_Type': 'Studio',\n",
              " 'Weeks_on_Billboard': '-',\n",
              " 'Peak_Billboard_Position': '201',\n",
              " 'Spotify_Popularity': '36',\n",
              " 'Spotify_URI': 'spotify:album:6NkgPYCMAzttRIKDpuJrFp',\n",
              " 'Chartmetric_Link': 'https://app.chartmetric.com/album/6761669/about',\n",
              " 'Artist_Member_Count': '1',\n",
              " 'Artist_Gender': 'Male',\n",
              " 'Artist_Birth_Year_Sum': '1926',\n",
              " 'Debut_Album_Release_Year': '1957',\n",
              " 'Avg._Age_at_Top_500_Album': '33',\n",
              " 'Years_Between_Debut_and_Top_500_Album': '2',\n",
              " 'Album_ID': '6NkgPYCMAzttRIKDpuJrFp',\n",
              " 'Album_ID_Quoted': '\"6NkgPYCMAzttRIKDpuJrFp\",',\n",
              " '': ''}"
            ]
          },
          "metadata": {}
        }
      ]
    },
    {
      "cell_type": "markdown",
      "id": "592b5ac7-6669-4d98-9d2d-7f74edfb75b0",
      "metadata": {
        "id": "592b5ac7-6669-4d98-9d2d-7f74edfb75b0"
      },
      "source": [
        "# Ex. 5 (**2 points**): `genre_mix_by_year` #\n",
        "\n",
        "Given a list of dictionaries, `albums_list`, complete the function,\n",
        "```python\n",
        "def genre_mix_by_year(albums_list):\n",
        "    ...\n",
        "```\n",
        "so that it returns a dictionary of sorted dictionaries of the music genres for the albums in the `albums_list` variable that is passed in.\n",
        "\n",
        "The key of the main dictionary is the year, and the value of each year is a sorted dictionary in which the key is the genre and the value is the number of albums of that genre for that year.\n",
        "\n",
        "The genre/values dictionary is to be sorted in descending order by value, with ties broken by genre in ascending order.\n",
        "\n",
        "**Input:**\n",
        "- A list of dictionaries, `albums_list`. It will have the same format as the `albums` variable above. For testing, it may or may not contain all of the values in the variable, so your code must account for a different number of albums to be in your input.\n",
        "\n",
        "**Your task:** Copy this list and output the dictionary of sorted dictionaries.\n",
        "\n",
        "**Output:** Return a dictionary of sorted dictionaries of the music genres for the albums in the `albums_list` variable that is passed in, without modifying the input `albums_list`.\n",
        "\n",
        "Each entry of the main/outer dictionary should contain the the following key-value pairs:\n",
        "- Key = `'Year'`. String. There will be up to 3 keys in the main dictionary, one for each year. Depending on the data, there may not be any albums for a particular year.\n",
        "- Value = Sorted dictionary as defined below.\n",
        "\n",
        "Each entry of the sorted dictionary should contain the the following key-value pairs:\n",
        "- Key = `'Album_Genre'`. String. The genre name should be converted to lower case before being counted.\n",
        "- Value = Integer. Count of the number of albums of that (all lower case) genre.\n",
        "- This dictionary should be sorted by the value (count) in descending order, with ties broken by the key (lower case genre) in ascending order.\n",
        "\n",
        "**Caveat(s)/comment(s)/hint(s):**\n",
        "1. The list of dictionaries passed into the function will be smaller than the entire list of albums.\n",
        "\n",
        "2. Ensure that your data types are correct, as the data types input may not always be the same as what you need to output.\n",
        "\n",
        "3. For some albums, the `Album_Genre` value is an empty string. For these, substitute the value `unknown`.\n",
        "\n",
        "4. Note that many albums appear in the list for multiple years. So while the demo data may only have 10 unique albums, the total count of all of the years (summed together) may exceed 10, as the album genres are counted in those multiple years.\n",
        "\n",
        "5. Using the defaultdict function is one possible way to solve the exercise."
      ]
    },
    {
      "cell_type": "code",
      "execution_count": 131,
      "id": "e8c0e98d-939d-4d22-b947-47a49dc38aad",
      "metadata": {
        "id": "e8c0e98d-939d-4d22-b947-47a49dc38aad"
      },
      "outputs": [],
      "source": [
        "# Run this cell, to populate the demo data for the student to work with\n",
        "albums_list = albums\n",
        "albums_list_ex5_demo = albums[10:20]"
      ]
    },
    {
      "cell_type": "markdown",
      "id": "bacb3003-0e7c-4948-8fea-b39bd4804927",
      "metadata": {
        "id": "bacb3003-0e7c-4948-8fea-b39bd4804927"
      },
      "source": [
        "#### A properly-coded function will return the following dictionary, for the demo data:\n",
        "\n",
        "{'2003': {'big band/jazz': 2, 'blues/blues rock': 1, 'unknown': 1},\n",
        "\n",
        " '2012': {'big band/jazz': 2, 'blues/blues rock': 1, 'unknown': 1},\n",
        "\n",
        " '2020': {'big band/jazz': 2,\n",
        "  'soul/gospel/r&b': 2,\n",
        "  'blues/blues rock': 1,\n",
        "  'country/folk/country rock/folk rock': 1,\n",
        "  'hip-hop/rap': 1,\n",
        "  'indie/alternative rock': 1,\n",
        "  'unknown': 1}}"
      ]
    },
    {
      "cell_type": "markdown",
      "id": "e8979c60-c81c-4776-8fc8-1f5acbaf9984",
      "metadata": {
        "id": "e8979c60-c81c-4776-8fc8-1f5acbaf9984"
      },
      "source": [
        "#### For the entire albums data set, the largest genre in each year is `unknown`, with 125 in 2003, 117 in 2010 and 110 in 2020.\n",
        "\n",
        "#### The second most genre is the same in 2003/2010, with `punk/post-punk/new wave/power pop` having 71 in 2003 and 70 in 2010.\n",
        "\n",
        "#### The second most genre in 2020 is `soul/gospel/r&b`, with 65."
      ]
    },
    {
      "cell_type": "code",
      "execution_count": 132,
      "id": "9db30365",
      "metadata": {
        "id": "9db30365",
        "outputId": "4792eccf-2c0c-4074-c57b-8d8211baf8b8",
        "colab": {
          "base_uri": "https://localhost:8080/",
          "height": 191
        }
      },
      "outputs": [
        {
          "output_type": "display_data",
          "data": {
            "text/plain": [
              "{'2003': {'big band/jazz': 2, 'blues/blues rock': 1, 'unknown': 1},\n",
              " '2012': {'big band/jazz': 2, 'blues/blues rock': 1, 'unknown': 1},\n",
              " '2020': {'big band/jazz': 2,\n",
              "  'soul/gospel/r&b': 2,\n",
              "  'blues/blues rock': 1,\n",
              "  'country/folk/country rock/folk rock': 1,\n",
              "  'hip-hop/rap': 1,\n",
              "  'indie/alternative rock': 1,\n",
              "  'unknown': 1}}"
            ]
          },
          "metadata": {}
        },
        {
          "output_type": "stream",
          "name": "stdout",
          "text": [
            "passed demo data\n"
          ]
        }
      ],
      "source": [
        "### Exercise 5 solution -- 2 points ###\n",
        "def genre_mix_by_year(albums_list):\n",
        "    ### YOUR CODE HERE\n",
        "    from collections import defaultdict\n",
        "    from copy import deepcopy\n",
        "    from pprint import pprint\n",
        "\n",
        "    alb_list = deepcopy(albums_list)\n",
        "    return_d = dict()\n",
        "    d2003 = defaultdict(int)\n",
        "    d2012 = defaultdict(int)\n",
        "    d2020 = defaultdict(int)\n",
        "\n",
        "    for alb in alb_list:\n",
        "      if alb['Album_Genre'] == '':\n",
        "        alb['Album_Genre'] = 'unknown'\n",
        "\n",
        "      if alb['2003_Rank'] != '':\n",
        "        d2003[alb['Album_Genre'].lower()] += 1\n",
        "\n",
        "      if alb['2012_Rank'] != '':\n",
        "        d2012[alb['Album_Genre'].lower()] += 1\n",
        "\n",
        "      if alb['2020_Rank'] != '':\n",
        "        d2020[alb['Album_Genre'].lower()] += 1\n",
        "\n",
        "\n",
        "    return_d['2003'] = dict(sorted(d2003.items(), key=lambda x: (-x[1], x[0])))\n",
        "    return_d['2012'] = dict(sorted(d2012.items(), key=lambda x: (-x[1], x[0])))\n",
        "    return_d['2020'] = dict(sorted(d2020.items(), key=lambda x: (-x[1], x[0])))\n",
        "\n",
        "    return return_d\n",
        "\n",
        "\n",
        "\n",
        "### demo function call ###\n",
        "# result_full_5 = genre_mix_by_year(albums)\n",
        "# display(result_full_5)\n",
        "### demo function call ###\n",
        "result5 = genre_mix_by_year(albums_list_ex5_demo)\n",
        "display(result5)\n",
        "assert result5 == {'2003': {'big band/jazz': 2, 'blues/blues rock': 1, 'unknown': 1},\n",
        " '2012': {'big band/jazz': 2, 'blues/blues rock': 1, 'unknown': 1},\n",
        " '2020': {'big band/jazz': 2,\n",
        "  'soul/gospel/r&b': 2,\n",
        "  'blues/blues rock': 1,\n",
        "  'country/folk/country rock/folk rock': 1,\n",
        "  'hip-hop/rap': 1,\n",
        "  'indie/alternative rock': 1,\n",
        "  'unknown': 1}}, 'Demo data does not pass.'\n",
        "print('passed demo data')"
      ]
    },
    {
      "cell_type": "code",
      "source": [],
      "metadata": {
        "id": "hXnFi5OXQoxA"
      },
      "id": "hXnFi5OXQoxA",
      "execution_count": 132,
      "outputs": []
    },
    {
      "cell_type": "code",
      "execution_count": 133,
      "id": "2ba3b23c-de00-4854-abec-b8b18b18a97c",
      "metadata": {
        "id": "2ba3b23c-de00-4854-abec-b8b18b18a97c",
        "outputId": "cc8b9cdf-58cb-40e6-cd80-deef1a954bfd",
        "colab": {
          "base_uri": "https://localhost:8080/"
        }
      },
      "outputs": [
        {
          "output_type": "stream",
          "name": "stdout",
          "text": [
            "Passed\n"
          ]
        }
      ],
      "source": [
        "# test cell\n",
        "# Run this cell to test if your code is correct\n",
        "albums_list_5a = albums_list[1:100]\n",
        "assert genre_mix_by_year(albums_list_5a) == {'2003': {'blues/blues rock': 10, 'unknown': 8, 'big band/jazz': 7, \"rock n' roll/rhythm & blues\": 5, 'soul/gospel/r&b': 5, 'country/folk/country rock/folk rock': 3, 'funk/disco': 1}, '2012': {'blues/blues rock': 9, 'big band/jazz': 7, 'unknown': 7, 'soul/gospel/r&b': 6, \"rock n' roll/rhythm & blues\": 5, 'country/folk/country rock/folk rock': 3, 'funk/disco': 1, 'indie/alternative rock': 1, 'punk/post-punk/new wave/power pop': 1}, '2020': {'soul/gospel/r&b': 22, 'unknown': 21, 'country/folk/country rock/folk rock': 11, 'big band/jazz': 6, 'indie/alternative rock': 5, \"rock n' roll/rhythm & blues\": 4, 'blues/blues rock': 3, 'electronic': 3, 'funk/disco': 3, 'latin': 3, 'punk/post-punk/new wave/power pop': 2, 'hip-hop/rap': 1}}, \"Your function does not return the correct voters in the first test data set.\"\n",
        "albums_list_5b = albums_list[151:250]\n",
        "assert genre_mix_by_year(albums_list_5b) == {'2003': {'unknown': 25, 'blues/blues rock': 21, 'country/folk/country rock/folk rock': 10, 'hard rock/metal': 7, 'punk/post-punk/new wave/power pop': 7, 'soul/gospel/r&b': 5, 'funk/disco': 4, 'singer-songwriter/heartland rock': 4, 'big band/jazz': 1, \"rock n' roll/rhythm & blues\": 1}, '2012': {'unknown': 21, 'blues/blues rock': 19, 'country/folk/country rock/folk rock': 11, 'hard rock/metal': 7, 'punk/post-punk/new wave/power pop': 7, 'soul/gospel/r&b': 5, 'funk/disco': 4, 'hip-hop/rap': 4, 'singer-songwriter/heartland rock': 3, 'big band/jazz': 1, \"rock n' roll/rhythm & blues\": 1}, '2020': {'unknown': 14, 'blues/blues rock': 13, 'country/folk/country rock/folk rock': 10, 'hip-hop/rap': 10, 'hard rock/metal': 6, 'punk/post-punk/new wave/power pop': 6, 'soul/gospel/r&b': 6, 'funk/disco': 4, 'singer-songwriter/heartland rock': 2, 'big band/jazz': 1, \"rock n' roll/rhythm & blues\": 1}}, \"Your function does not return the correct voters in the second test data set.\"\n",
        "albums_list_5c = albums_list[251:375]\n",
        "assert genre_mix_by_year(albums_list_5c) == {'2003': {'unknown': 31, 'soul/gospel/r&b': 11, 'singer-songwriter/heartland rock': 10, 'country/folk/country rock/folk rock': 7, 'punk/post-punk/new wave/power pop': 7, 'funk/disco': 5, 'reggae': 5, 'hard rock/metal': 4, 'blues/blues rock': 3}, '2012': {'unknown': 30, 'soul/gospel/r&b': 11, 'singer-songwriter/heartland rock': 9, 'country/folk/country rock/folk rock': 8, 'punk/post-punk/new wave/power pop': 7, 'funk/disco': 5, 'reggae': 5, 'hard rock/metal': 4, 'blues/blues rock': 3, 'hip-hop/rap': 1, 'indie/alternative rock': 1}, '2020': {'unknown': 23, 'hip-hop/rap': 14, 'soul/gospel/r&b': 12, 'punk/post-punk/new wave/power pop': 8, 'country/folk/country rock/folk rock': 7, 'indie/alternative rock': 6, 'singer-songwriter/heartland rock': 6, 'funk/disco': 4, 'hard rock/metal': 4, 'reggae': 3, 'electronic': 2, 'big band/jazz': 1}}, \"Your function does not return the correct voters in the third test data set.\"\n",
        "print(\"Passed\")"
      ]
    },
    {
      "cell_type": "markdown",
      "id": "a13a3f11-5d74-4cb3-b6b1-276fe407de35",
      "metadata": {
        "id": "a13a3f11-5d74-4cb3-b6b1-276fe407de35"
      },
      "source": [
        "# Ex. 6 (**2 points**): `voter_gender_metrics` #\n",
        "\n",
        "Given a list of dictionaries, `voters_list`, complete the function,\n",
        "```python\n",
        "def voter_gender_metrics(voters_list, year):\n",
        "    ...\n",
        "```\n",
        "so that it returns a list of sorted dictionaries of the gender mix of the `voters_list` variable that is passed in, for that year.\n",
        "\n",
        "The genre/values dictionary is to be sorted in descending order by `COUNT`, which is the integer count of the number of each gender.\n",
        "\n",
        "**Input:**\n",
        "- A list of dictionaries, `voters_list`. It will have the same format as the `albums` variable above. For testing, it may or may not contain all of the values in the variable, so your code must account for a different number of albumss to be in your input.\n",
        "\n",
        "**Your task:** Copy this list and output the list of sorted dictionaries.\n",
        "\n",
        "**Output:** Return a list of sorted dictionaries of the voter genders in the `voters_list` variable that is passed in, without modifying the input `voters_list`.\n",
        "\n",
        "Each entry of the sorted dictionary should contain the the following key-value pairs:\n",
        "- `'YEAR'`. String. The year that the voter participated in the list.\n",
        "- `'GENDER'`. String. The gender of the voters who participated in the list.\n",
        "- `'COUNT'`. Integer. The count of that gender.\n",
        "- `'PERCENT'`. Float. The percent of the total voters for that year for that gender. Round to one decimal place (for example `65.6`)\n",
        "\n",
        "- This list of dictionaries should be sorted by `COUNT` in descending order.\n",
        "\n",
        "**Caveat(s)/comment(s)/hint(s):**\n",
        "1. The list of dictionaries passed into the function will be the entire list of voters, for the both the demo and test cases.\n",
        "\n",
        "2. Ensure that your data types are correct, as the data types input may not always be the same as what you need to output.\n",
        "\n",
        "3. For some voters, they chose not to disclose their gender, or their gender was in transition at the vote time.  For these, the first 3 characters of the `'Pronouns/Gender'` value is `n/a`. Do not count these voters.\n",
        "\n",
        "4. Note that the `voters` data set only has a listing of the voters for 2003 and 2020. The voters were not tabulated in this manner for 2012. As such, your test data will be the data from 2003, and the test will be on the 2020 list of voters.\n",
        "\n",
        "5. Using the Counter function may be helpful in solving the exercise."
      ]
    },
    {
      "cell_type": "code",
      "execution_count": 156,
      "id": "fb937bda-f5b8-4759-8a1c-1c5093b1de14",
      "metadata": {
        "id": "fb937bda-f5b8-4759-8a1c-1c5093b1de14"
      },
      "outputs": [],
      "source": [
        "# Run this cell, to populate the demo data for the student to work with\n",
        "voters_list = voters\n",
        "voters_list_ex6_demo = voters_list"
      ]
    },
    {
      "cell_type": "markdown",
      "id": "8c03a94d-97ee-4f70-9193-ffc1c8eaa709",
      "metadata": {
        "id": "8c03a94d-97ee-4f70-9193-ffc1c8eaa709"
      },
      "source": [
        "### The demo data will use the entire voters list, for the year `2003`.\n",
        "\n",
        "#### A properly-coded function will return the following dictionary, for the demo data:\n",
        "\n",
        "[{'YEAR': '2003', 'GENDER': 'man', 'COUNT': 242, 'PERCENT': 90.3},\n",
        "\n",
        " {'YEAR': '2003', 'GENDER': 'woman', 'COUNT': 26, 'PERCENT': 9.7}]"
      ]
    },
    {
      "cell_type": "code",
      "execution_count": 171,
      "id": "ac652fcb",
      "metadata": {
        "id": "ac652fcb",
        "outputId": "96449b74-f166-4299-8e06-70f7f3fde723",
        "colab": {
          "base_uri": "https://localhost:8080/",
          "height": 86
        }
      },
      "outputs": [
        {
          "output_type": "stream",
          "name": "stdout",
          "text": [
            "Counter({'man': 242, 'woman': 26})\n"
          ]
        },
        {
          "output_type": "display_data",
          "data": {
            "text/plain": [
              "[{'YEAR': '2003', 'GENDER': 'man', 'COUNT': 242, 'PERCENT': 90.3},\n",
              " {'YEAR': '2003', 'GENDER': 'woman', 'COUNT': 26, 'PERCENT': 9.7}]"
            ]
          },
          "metadata": {}
        },
        {
          "output_type": "stream",
          "name": "stdout",
          "text": [
            "passed demo data\n"
          ]
        }
      ],
      "source": [
        "### Exercise 6 solution -- harder 2 points, could be an easier 3 point exercise ###\n",
        "def voter_gender_metrics(voter_list,year):\n",
        "    '''\n",
        "    Compute:\n",
        "        0. Year\n",
        "        1. Count of gender\n",
        "        2. Gender percent of total\n",
        "        3. Sort the genders\n",
        "    '''\n",
        "    from copy import deepcopy\n",
        "    from collections import Counter\n",
        "    from collections import defaultdict\n",
        "    from pprint import pprint\n",
        "    voters = deepcopy(voters_list)\n",
        "    results = []\n",
        "\n",
        "\n",
        "    year = str(year)\n",
        "    filtered = []\n",
        "    for voter in voter_list:\n",
        "      voter_year = str(voter.get(\"Year\"))\n",
        "      gender = voter.get(\"Pronouns/Gender\", \"\")\n",
        "      if voter_year == year and gender[0:3] != 'n/a':\n",
        "        filtered.append(gender)\n",
        "    counts = Counter(filtered)\n",
        "    print(counts)\n",
        "\n",
        "    total = len(filtered)\n",
        "\n",
        "    for gender, count in counts.items():\n",
        "      results.append({\n",
        "          'YEAR': year,\n",
        "          'GENDER': gender,\n",
        "          'COUNT': count,\n",
        "          'PERCENT': round(count/total * 100, 1)\n",
        "      })\n",
        "\n",
        "    results = sorted(results, key=lambda item: item[\"COUNT\"], reverse = True)\n",
        "    return results\n",
        "\n",
        "\n",
        "    ##END SOLUTION\n",
        "\n",
        "\n",
        "\n",
        "\n",
        "\n",
        "#test with full data set for 2003\n",
        "result6 = voter_gender_metrics(voters_list_ex6_demo,2003)\n",
        "display(result6)\n",
        "assert result6 == [{'YEAR': '2003', 'GENDER': 'man', 'COUNT': 242, 'PERCENT': 90.3},\n",
        " {'YEAR': '2003', 'GENDER': 'woman', 'COUNT': 26, 'PERCENT': 9.7}], 'Demo data does not pass.'\n",
        "print('passed demo data')"
      ]
    },
    {
      "cell_type": "code",
      "execution_count": 136,
      "id": "545444e8-e945-4340-a20f-bfeca8afeb5e",
      "metadata": {
        "id": "545444e8-e945-4340-a20f-bfeca8afeb5e",
        "outputId": "230e464a-e3c9-4aec-efd1-37f881e89d40",
        "colab": {
          "base_uri": "https://localhost:8080/",
          "height": 356
        }
      },
      "outputs": [
        {
          "output_type": "error",
          "ename": "AttributeError",
          "evalue": "'int' object has no attribute 'items'",
          "traceback": [
            "\u001b[0;31m---------------------------------------------------------------------------\u001b[0m",
            "\u001b[0;31mAttributeError\u001b[0m                            Traceback (most recent call last)",
            "\u001b[0;32m/tmp/ipython-input-346623831.py\u001b[0m in \u001b[0;36m<cell line: 0>\u001b[0;34m()\u001b[0m\n\u001b[1;32m      2\u001b[0m \u001b[0;31m# Run this cell to test if your code is correct\u001b[0m\u001b[0;34m\u001b[0m\u001b[0;34m\u001b[0m\u001b[0m\n\u001b[1;32m      3\u001b[0m \u001b[0mvoters_list_6a\u001b[0m \u001b[0;34m=\u001b[0m \u001b[0mvoters_list\u001b[0m\u001b[0;34m\u001b[0m\u001b[0;34m\u001b[0m\u001b[0m\n\u001b[0;32m----> 4\u001b[0;31m \u001b[0;32massert\u001b[0m \u001b[0mvoter_gender_metrics\u001b[0m\u001b[0;34m(\u001b[0m\u001b[0mvoters_list_6a\u001b[0m\u001b[0;34m,\u001b[0m\u001b[0;36m2020\u001b[0m\u001b[0;34m)\u001b[0m \u001b[0;34m==\u001b[0m \u001b[0;34m[\u001b[0m\u001b[0;34m{\u001b[0m\u001b[0;34m'YEAR'\u001b[0m\u001b[0;34m:\u001b[0m \u001b[0;34m'2020'\u001b[0m\u001b[0;34m,\u001b[0m \u001b[0;34m'GENDER'\u001b[0m\u001b[0;34m:\u001b[0m \u001b[0;34m'man'\u001b[0m\u001b[0;34m,\u001b[0m \u001b[0;34m'COUNT'\u001b[0m\u001b[0;34m:\u001b[0m \u001b[0;36m256\u001b[0m\u001b[0;34m,\u001b[0m \u001b[0;34m'PERCENT'\u001b[0m\u001b[0;34m:\u001b[0m \u001b[0;36m76.2\u001b[0m\u001b[0;34m}\u001b[0m\u001b[0;34m,\u001b[0m \u001b[0;34m{\u001b[0m\u001b[0;34m'YEAR'\u001b[0m\u001b[0;34m:\u001b[0m \u001b[0;34m'2020'\u001b[0m\u001b[0;34m,\u001b[0m \u001b[0;34m'GENDER'\u001b[0m\u001b[0;34m:\u001b[0m \u001b[0;34m'woman'\u001b[0m\u001b[0;34m,\u001b[0m \u001b[0;34m'COUNT'\u001b[0m\u001b[0;34m:\u001b[0m \u001b[0;36m73\u001b[0m\u001b[0;34m,\u001b[0m \u001b[0;34m'PERCENT'\u001b[0m\u001b[0;34m:\u001b[0m \u001b[0;36m21.7\u001b[0m\u001b[0;34m}\u001b[0m\u001b[0;34m,\u001b[0m \u001b[0;34m{\u001b[0m\u001b[0;34m'YEAR'\u001b[0m\u001b[0;34m:\u001b[0m \u001b[0;34m'2020'\u001b[0m\u001b[0;34m,\u001b[0m \u001b[0;34m'GENDER'\u001b[0m\u001b[0;34m:\u001b[0m \u001b[0;34m'mixed gender group'\u001b[0m\u001b[0;34m,\u001b[0m \u001b[0;34m'COUNT'\u001b[0m\u001b[0;34m:\u001b[0m \u001b[0;36m4\u001b[0m\u001b[0;34m,\u001b[0m \u001b[0;34m'PERCENT'\u001b[0m\u001b[0;34m:\u001b[0m \u001b[0;36m1.2\u001b[0m\u001b[0;34m}\u001b[0m\u001b[0;34m,\u001b[0m \u001b[0;34m{\u001b[0m\u001b[0;34m'YEAR'\u001b[0m\u001b[0;34m:\u001b[0m \u001b[0;34m'2020'\u001b[0m\u001b[0;34m,\u001b[0m \u001b[0;34m'GENDER'\u001b[0m\u001b[0;34m:\u001b[0m \u001b[0;34m'non-binary'\u001b[0m\u001b[0;34m,\u001b[0m \u001b[0;34m'COUNT'\u001b[0m\u001b[0;34m:\u001b[0m \u001b[0;36m3\u001b[0m\u001b[0;34m,\u001b[0m \u001b[0;34m'PERCENT'\u001b[0m\u001b[0;34m:\u001b[0m \u001b[0;36m0.9\u001b[0m\u001b[0;34m}\u001b[0m\u001b[0;34m]\u001b[0m\u001b[0;34m,\u001b[0m \u001b[0;34m\"Your function does not return the correct voters in the 2020 data set.\"\u001b[0m\u001b[0;34m\u001b[0m\u001b[0;34m\u001b[0m\u001b[0m\n\u001b[0m\u001b[1;32m      5\u001b[0m \u001b[0mprint\u001b[0m\u001b[0;34m(\u001b[0m\u001b[0;34m\"Passed\"\u001b[0m\u001b[0;34m)\u001b[0m\u001b[0;34m\u001b[0m\u001b[0;34m\u001b[0m\u001b[0m\n",
            "\u001b[0;32m/tmp/ipython-input-2044350194.py\u001b[0m in \u001b[0;36mvoter_gender_metrics\u001b[0;34m(voter_list, year)\u001b[0m\n\u001b[1;32m     19\u001b[0m     \u001b[0;32mfor\u001b[0m \u001b[0mvoter\u001b[0m \u001b[0;32min\u001b[0m \u001b[0mvoters\u001b[0m\u001b[0;34m:\u001b[0m\u001b[0;34m\u001b[0m\u001b[0;34m\u001b[0m\u001b[0m\n\u001b[1;32m     20\u001b[0m       \u001b[0;32mfor\u001b[0m \u001b[0mvoter\u001b[0m\u001b[0;34m[\u001b[0m\u001b[0;34m'Pronouns/Gender'\u001b[0m\u001b[0;34m]\u001b[0m \u001b[0;32min\u001b[0m \u001b[0mvoter\u001b[0m\u001b[0;34m:\u001b[0m\u001b[0;34m\u001b[0m\u001b[0;34m\u001b[0m\u001b[0m\n\u001b[0;32m---> 21\u001b[0;31m         \u001b[0mgender_counts\u001b[0m \u001b[0;34m+=\u001b[0m \u001b[0;36m1\u001b[0m\u001b[0;34m\u001b[0m\u001b[0;34m\u001b[0m\u001b[0m\n\u001b[0m\u001b[1;32m     22\u001b[0m     \u001b[0mprint\u001b[0m\u001b[0;34m(\u001b[0m\u001b[0mlist\u001b[0m\u001b[0;34m(\u001b[0m\u001b[0mgender_counts\u001b[0m\u001b[0;34m)\u001b[0m\u001b[0;34m)\u001b[0m\u001b[0;34m\u001b[0m\u001b[0;34m\u001b[0m\u001b[0m\n\u001b[1;32m     23\u001b[0m     \u001b[0;32mreturn\u001b[0m \u001b[0mgender_counts\u001b[0m\u001b[0;34m\u001b[0m\u001b[0;34m\u001b[0m\u001b[0m\n",
            "\u001b[0;32m/usr/lib/python3.12/collections/__init__.py\u001b[0m in \u001b[0;36m__iadd__\u001b[0;34m(self, other)\u001b[0m\n\u001b[1;32m    931\u001b[0m \u001b[0;34m\u001b[0m\u001b[0m\n\u001b[1;32m    932\u001b[0m         '''\n\u001b[0;32m--> 933\u001b[0;31m         \u001b[0;32mfor\u001b[0m \u001b[0melem\u001b[0m\u001b[0;34m,\u001b[0m \u001b[0mcount\u001b[0m \u001b[0;32min\u001b[0m \u001b[0mother\u001b[0m\u001b[0;34m.\u001b[0m\u001b[0mitems\u001b[0m\u001b[0;34m(\u001b[0m\u001b[0;34m)\u001b[0m\u001b[0;34m:\u001b[0m\u001b[0;34m\u001b[0m\u001b[0;34m\u001b[0m\u001b[0m\n\u001b[0m\u001b[1;32m    934\u001b[0m             \u001b[0mself\u001b[0m\u001b[0;34m[\u001b[0m\u001b[0melem\u001b[0m\u001b[0;34m]\u001b[0m \u001b[0;34m+=\u001b[0m \u001b[0mcount\u001b[0m\u001b[0;34m\u001b[0m\u001b[0;34m\u001b[0m\u001b[0m\n\u001b[1;32m    935\u001b[0m         \u001b[0;32mreturn\u001b[0m \u001b[0mself\u001b[0m\u001b[0;34m.\u001b[0m\u001b[0m_keep_positive\u001b[0m\u001b[0;34m(\u001b[0m\u001b[0;34m)\u001b[0m\u001b[0;34m\u001b[0m\u001b[0;34m\u001b[0m\u001b[0m\n",
            "\u001b[0;31mAttributeError\u001b[0m: 'int' object has no attribute 'items'"
          ]
        }
      ],
      "source": [
        "# test cell\n",
        "# Run this cell to test if your code is correct\n",
        "voters_list_6a = voters_list\n",
        "assert voter_gender_metrics(voters_list_6a,2020) == [{'YEAR': '2020', 'GENDER': 'man', 'COUNT': 256, 'PERCENT': 76.2}, {'YEAR': '2020', 'GENDER': 'woman', 'COUNT': 73, 'PERCENT': 21.7}, {'YEAR': '2020', 'GENDER': 'mixed gender group', 'COUNT': 4, 'PERCENT': 1.2}, {'YEAR': '2020', 'GENDER': 'non-binary', 'COUNT': 3, 'PERCENT': 0.9}], \"Your function does not return the correct voters in the 2020 data set.\"\n",
        "print(\"Passed\")"
      ]
    },
    {
      "cell_type": "code",
      "source": [
        "my_dict = {'apple': 5, 'banana': 2, 'cherry': 5, 'date': 8, 'elderberry': 2}\n",
        "\n",
        "# Sort by value (descending) then by key (ascending)\n",
        "sorted_items = sorted(my_dict.items(), key=lambda item: (-item[1], item[0]))\n",
        "\n",
        "# Convert the sorted list of tuples back to a dictionary (if needed)\n",
        "# Note: In Python 3.7+, dictionaries maintain insertion order,\n",
        "# so converting back to dict will preserve the sorted order.\n",
        "sorted_dict = dict(sorted_items)\n",
        "\n",
        "print(sorted_dict)"
      ],
      "metadata": {
        "id": "yOcX-S-ycFsa"
      },
      "id": "yOcX-S-ycFsa",
      "execution_count": null,
      "outputs": []
    },
    {
      "cell_type": "code",
      "source": [
        "print(voters_list[0:20])"
      ],
      "metadata": {
        "id": "DKWYiDkhxlbx",
        "outputId": "1decf104-329d-445b-feb3-7b4363095b3b",
        "colab": {
          "base_uri": "https://localhost:8080/"
        }
      },
      "id": "DKWYiDkhxlbx",
      "execution_count": 166,
      "outputs": [
        {
          "output_type": "stream",
          "name": "stdout",
          "text": [
            "[{'Year': '2003', 'ID': '485', 'General_Category': 'Artist, Songwriter, Producer', 'Specific_Category': 'Artist', 'Voter': 'David Lefkowitz', 'Additional_Info': 'Composer', 'Pronouns/Gender': 'man', 'Image': 'http://davidlefkowitz.com/images/DavidSLefkowitz_harp_vertical.jpg', 'Estimated_Birthyear': '1964', 'Age_at_Vote': '39', 'Teenage_Decade': '1980s', '': ''}, {'Year': '2003', 'ID': '372', 'General_Category': 'Industry', 'Specific_Category': 'Music Executive', 'Voter': 'Harold Bronson', 'Additional_Info': 'Founded Rhino Records', 'Pronouns/Gender': 'man', 'Image': 'http://www.demophonic.com/bio/images/HaroldBronson.jpg', 'Estimated_Birthyear': '1950', 'Age_at_Vote': '53', 'Teenage_Decade': '1970s', '': ''}, {'Year': '2003', 'ID': '345', 'General_Category': 'Industry', 'Specific_Category': 'Music Executive', 'Voter': 'Dick Asher', 'Additional_Info': 'Former CEO of Polygram', 'Pronouns/Gender': 'man', 'Image': 'http://www.fau.edu/artsandletters/music/images/cm_jpegs/dick-passport-photo2.jpg', 'Estimated_Birthyear': '1932', 'Age_at_Vote': '71', 'Teenage_Decade': '1950s', '': ''}, {'Year': '2003', 'ID': '604', 'General_Category': 'Industry', 'Specific_Category': '', 'Voter': 'Howard Wuelfing', 'Additional_Info': 'Howlin Wuelf Media', 'Pronouns/Gender': 'man', 'Image': 'http://www.howlinwuelf.com/wp-content/uploads/2014/12/IMG_2015-e1482083684374-768x1024.jpg', 'Estimated_Birthyear': '1953', 'Age_at_Vote': '50', 'Teenage_Decade': '1970s', '': ''}, {'Year': '2003', 'ID': '371', 'General_Category': 'Journalists/Writers', 'Specific_Category': 'Music Journalist', 'Voter': 'Jon Bream', 'Additional_Info': 'Critic Minneapolis Star Tribune', 'Pronouns/Gender': 'man', 'Image': 'http://www.jonbream.com/Jon_Bream/About_files/shapeimage_1.png', 'Estimated_Birthyear': '1952', 'Age_at_Vote': '51', 'Teenage_Decade': '1970s', '': ''}, {'Year': '2003', 'ID': '551', 'General_Category': 'Journalists/Writers', 'Specific_Category': '', 'Voter': 'Andy Schwartz', 'Additional_Info': 'Researcher-archivist, Rock and Roll Hall of Fame', 'Pronouns/Gender': 'man', 'Image': 'http://www.nyrocker.com/blog/wp-content/uploads/2009/02/davegahrshot-300x204.jpg', 'Estimated_Birthyear': '1951', 'Age_at_Vote': '52', 'Teenage_Decade': '1970s', '': ''}, {'Year': '2003', 'ID': '459', 'General_Category': 'Journalists/Writers', 'Specific_Category': 'Music Journalist', 'Voter': 'David Hinckley', 'Additional_Info': 'Critic New York Daily News', 'Pronouns/Gender': 'man', 'Image': 'http://www.tvworthwatching.com/ThumbHandler.ashx?type=1&width=200&height=150&img=HHKMH8FVPMRBQXL.jpg', 'Estimated_Birthyear': '1948', 'Age_at_Vote': '55', 'Teenage_Decade': '1970s', '': ''}, {'Year': '2020', 'ID': '294', 'General_Category': 'Journalists/Writers', 'Specific_Category': 'Journalists', 'Voter': 'Danny Schwartz', 'Additional_Info': '', 'Pronouns/Gender': 'man', 'Image': 'https://64.media.tumblr.com/87e5515f03ae2c04363d859b91c91289/tumblr_inline_qchs01JhZb1tdlxoa_500.jpg', 'Estimated_Birthyear': '1991', 'Age_at_Vote': '29', 'Teenage_Decade': '2010s', '': ''}, {'Year': '2003', 'ID': '587', 'General_Category': 'Industry', 'Specific_Category': '', 'Voter': 'Phil Walden', 'Additional_Info': 'President, Velocette Records', 'Pronouns/Gender': 'man', 'Image': 'https://alchetron.com/cdn/phil-walden-5e5a676a-d120-4533-804f-e4c1a159f2d-resize-750.jpeg', 'Estimated_Birthyear': '1940', 'Age_at_Vote': '63', 'Teenage_Decade': '1960s', '': ''}, {'Year': '2020', 'ID': '221', 'General_Category': 'Industry', 'Specific_Category': 'Industry', 'Voter': 'Edgar Machuca', 'Additional_Info': 'Atlantic Records', 'Pronouns/Gender': 'man', 'Image': 'https://assets.allaccess.com/assets/img/editorial/200xH/ed/edgar-machuca.jpg', 'Estimated_Birthyear': '1995', 'Age_at_Vote': '25', 'Teenage_Decade': '2010s', '': ''}, {'Year': '2020', 'ID': '210', 'General_Category': 'Industry', 'Specific_Category': 'Industry', 'Voter': 'Derrick Aroh', 'Additional_Info': 'RCA Records', 'Pronouns/Gender': 'man', 'Image': 'https://avatars.sched.co/5/37/7180803/avatar.jpg?e32', 'Estimated_Birthyear': '1989', 'Age_at_Vote': '31', 'Teenage_Decade': '2010s', '': ''}, {'Year': '2020', 'ID': '287', 'General_Category': 'Journalists/Writers', 'Specific_Category': 'Journalists', 'Voter': 'Alfred Soto', 'Additional_Info': '', 'Pronouns/Gender': 'man', 'Image': 'https://avatars.sched.co/9/a0/12769952/avatar.jpg?9c3', 'Estimated_Birthyear': '1974', 'Age_at_Vote': '46', 'Teenage_Decade': '1990s', '': ''}, {'Year': '2020', 'ID': '288', 'General_Category': 'Journalists/Writers', 'Specific_Category': 'Journalists', 'Voter': 'Laura Snapes', 'Additional_Info': 'The Guardian', 'Pronouns/Gender': 'woman', 'Image': 'https://blog.mrandmrssmith.com/wp-content/uploads/2019/01/Laura-Snapes-.jpg', 'Estimated_Birthyear': '1988', 'Age_at_Vote': '32', 'Teenage_Decade': '2010s', '': ''}, {'Year': '2020', 'ID': '291', 'General_Category': 'Journalists/Writers', 'Specific_Category': 'Journalists', 'Voter': 'Mikael Wood', 'Additional_Info': '', 'Pronouns/Gender': 'man', 'Image': 'https://ca-times.brightspotcdn.com/dims4/default/e8bb1ba/2147483647/strip/true/crop/1125x1125+438+0/resize/200x200!/format/webp/quality/75/?url=https%3A%2F%2Fcalifornia-times-brightspot.s3.amazonaws.com%2F6c%2F1c%2F654dea6784b12a4b16877e30dad5%2Fimg-535dc503-turbine-la-bio-mikael-wood', 'Estimated_Birthyear': '1978', 'Age_at_Vote': '42', 'Teenage_Decade': '2000s', '': ''}, {'Year': '2020', 'ID': '235', 'General_Category': 'Journalists/Writers', 'Specific_Category': 'Journalists', 'Voter': 'Andrew Flory', 'Additional_Info': '', 'Pronouns/Gender': 'man', 'Image': 'https://cdn.carleton.edu/uploads/sites/172/2020/08/aflory.jpg?resize=400,400&crop=0,0,100,99', 'Estimated_Birthyear': '1976', 'Age_at_Vote': '44', 'Teenage_Decade': '1990s', '': ''}, {'Year': '2020', 'ID': '187', 'General_Category': 'Industry', 'Specific_Category': 'Industry', 'Voter': 'Andy Mooney', 'Additional_Info': 'Fender Musical Instruments Corporation', 'Pronouns/Gender': 'man', 'Image': 'https://cdn.kidscreen.com/wp/wp-content/uploads/2012/02/Outfit7_Andy_mooney1.jpg', 'Estimated_Birthyear': '1955', 'Age_at_Vote': '65', 'Teenage_Decade': '1970s', '': ''}, {'Year': '2020', 'ID': '196', 'General_Category': 'Industry', 'Specific_Category': 'Industry', 'Voter': 'Peter Edge', 'Additional_Info': 'RCA', 'Pronouns/Gender': 'man', 'Image': 'https://cdn.smehost.net/2019sonymusiccom-smeprod/wp-content/uploads/2013/10/Peter-Edge-2020-615x769.jpg', 'Estimated_Birthyear': '1964', 'Age_at_Vote': '56', 'Teenage_Decade': '1980s', '': ''}, {'Year': '2020', 'ID': '215', 'General_Category': 'Industry', 'Specific_Category': 'Industry', 'Voter': 'Peter Ganberg', 'Additional_Info': 'Atlantic Records', 'Pronouns/Gender': 'man', 'Image': 'https://celebrityaccess.com/wp-content/uploads/2018/01/pete.png', 'Estimated_Birthyear': '1966', 'Age_at_Vote': '54', 'Teenage_Decade': '1980s', '': ''}, {'Year': '2003', 'ID': '524', 'General_Category': 'Artist, Songwriter, Producer', 'Specific_Category': 'Artist, Producer', 'Voter': 'Andy Paley', 'Additional_Info': '', 'Pronouns/Gender': 'man', 'Image': 'https://cuecastanets.files.wordpress.com/2015/02/andy2.jpg', 'Estimated_Birthyear': '1952', 'Age_at_Vote': '51', 'Teenage_Decade': '1970s', '': ''}, {'Year': '2020', 'ID': '311', 'General_Category': 'Rolling Stone Staff', 'Specific_Category': 'Rolling Stone Staff', 'Voter': 'Jon Dolan', 'Additional_Info': '', 'Pronouns/Gender': 'man', 'Image': 'https://d3fg8lkx8f5xs7.cloudfront.net/7938232', 'Estimated_Birthyear': '1970', 'Age_at_Vote': '50', 'Teenage_Decade': '1990s', '': ''}]\n"
          ]
        }
      ]
    },
    {
      "cell_type": "code",
      "execution_count": null,
      "id": "a1067b87-d262-47e1-a7fe-24e9286f16ee",
      "metadata": {
        "id": "a1067b87-d262-47e1-a7fe-24e9286f16ee"
      },
      "outputs": [],
      "source": []
    }
  ],
  "metadata": {
    "celltoolbar": "Edit Metadata",
    "hide_input": false,
    "interpreter": {
      "hash": "f2b38b6e01547e8f771d473ea2b8718fd0728eea782e4c924ed8783f739d4a6c"
    },
    "kernelspec": {
      "display_name": "Python 3 (ipykernel)",
      "language": "python",
      "name": "python3"
    },
    "language_info": {
      "codemirror_mode": {
        "name": "ipython",
        "version": 3
      },
      "file_extension": ".py",
      "mimetype": "text/x-python",
      "name": "python",
      "nbconvert_exporter": "python",
      "pygments_lexer": "ipython3",
      "version": "3.12.7"
    },
    "toc": {
      "base_numbering": 1,
      "nav_menu": {},
      "number_sections": false,
      "sideBar": true,
      "skip_h1_title": false,
      "title_cell": "Table of Contents",
      "title_sidebar": "Contents",
      "toc_cell": false,
      "toc_position": {
        "height": "calc(100% - 180px)",
        "left": "10px",
        "top": "150px",
        "width": "247px"
      },
      "toc_section_display": true,
      "toc_window_display": true
    },
    "colab": {
      "provenance": []
    }
  },
  "nbformat": 4,
  "nbformat_minor": 5
}